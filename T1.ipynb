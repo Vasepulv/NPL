{
 "cells": [
  {
   "cell_type": "markdown",
   "metadata": {
    "ExecuteTime": {
     "end_time": "2020-03-31T13:49:08.174519Z",
     "start_time": "2020-03-31T13:49:08.165989Z"
    },
    "colab_type": "text",
    "id": "G2G9R-pQvKbr"
   },
   "source": [
    "# Tarea 1 NLP : Competencia de Clasificación de Texto\n",
    "-------------------------------\n"
   ]
  },
  {
   "cell_type": "markdown",
   "metadata": {
    "colab_type": "text",
    "id": "MCrkqG4JvKbz"
   },
   "source": [
    "- **Nombres:** Valentina Sepulveda, Joaquín Pérez\n",
    "\n",
    "- **Usuario o nombre de equipo en Codalab:**  meperd0nas\n",
    "\n",
    "\n"
   ]
  },
  {
   "cell_type": "markdown",
   "metadata": {
    "ExecuteTime": {
     "end_time": "2020-04-07T14:34:38.796217Z",
     "start_time": "2020-04-07T14:34:38.782255Z"
    },
    "colab_type": "text",
    "id": "7h1JBoHEvKcI"
   },
   "source": [
    "### Detalles e instrucciones de la competencia:\n",
    "\n",
    "- La competencia consiste en resolver 4 problemas de clasificación distintos, cada uno de tres clases. Por cada problema deberán crear un clasificador distinto. La evaluación de la competencia se realiza en base a 4 métricas: AUC, Kappa y Accuracy. Los mejores puntajes en cada ítem serán los que ganen.\n",
    "\n",
    "- Para comenzar se les entregará en este notebook el baseline y la estructura del reporte. El baseline es el código que realiza creación de features y clasificación básica. Los puntajes de este serán ocupados como base para la competencia: deben superar sus resultados para ser bien evaluados.  \n",
    "\n",
    "- Para participar, deben registrarse en Codalab y luego ingresar a la competencia usando el siguiente [link]( https://competitions.codalab.org/competitions/24121?secret_key=f5eb2d95-b36e-4aad-8fc5-4d9d77f4e4dc). \n",
    "\n",
    "- **Es requisito entregar el reporte con el código y haber participado en la competencia para ser evaluado.**\n",
    "\n",
    "- Pueden hacer grupos de máximo 2 alumnos. Cada grupo debe tener un nombre de equipo (En codalab, ir a settings y después cambiar Team Name). Solo una persona debe administrar la cuenta del grupo.\n",
    "\n",
    "- En total pueden hacer un **máximo de 4 envíos/submissions** (tanto para equipos como para envíos indivuales).\n",
    "\n",
    "- Hagan varios experimentos haciendo cross-validation o evaluación sobre una sub-partición antes de enviar sus predicciones a Codalab. Asegúrense que la distribución de las clases sea balanceada en las particiones de training y testing. Verificar que el formato de la submission coincida con el de la competencia. De lo contrario, se les será evaluado incorrectamente.\n",
    "\n",
    "- Estar top 5 en alguna métrica equivale a 1 punto extra en la nota final.\n",
    "\n",
    "- No se limiten a los contenidos vistos ni a scikit ni a este baseline. ¡Usen todo su conocimiento e ingenio en mejorar sus sistemas! \n",
    "\n",
    "- Todas las dudas escríbanlas en el hilo de U-cursos de la tarea. Los emails que lleguen al equipo docente serán remitidos a ese medio.\n"
   ]
  },
  {
   "cell_type": "markdown",
   "metadata": {
    "colab_type": "text",
    "id": "N8W8H7JKvKcO"
   },
   "source": [
    "### Reporte\n",
    "\n",
    "Este debe cumplir la siguiente estructura:\n",
    "\n",
    "1.\t**Introducción**: Presentar brevemente el problema a resolver, los métodos y representaciones utilizadas en el desarrollo de la tarea y conclusiones obtenidas. (0.5 Puntos)\n",
    "2.\t**Representaciones**: Describir los atributos y representaciones usadas como entrada de los clasificadores. Si bien, con Bag of Words (baseline) ya se comienzan a percibir buenos resultados, pueden mejorar su evaluación agregando más atributos y representaciones diseñadas a mano. Mas abajo encontrarán una lista útil de estos que les podrá ser de utilidad. (1.5 puntos)\n",
    "3.\t**Algoritmos**: Describir brevemente los algoritmos de clasificación usados. (0.5 puntos)\n",
    "4.\t**Métricas de evaluación**: Describir brevemente las métricas utilizadas en la evaluación indicando que miden y su interpretación. (0.5 puntos)\n",
    "5.\t**Experimentos**: Reportar todos sus experimentos. Comparar los resultados obtenidos utilizando diferentes algoritmos y representaciones. Estos experimentos los hacen sobre la sub-partición de evaluación que deben crear (o pueden usar cross-validation). Incluyan todo el código de sus experimentos aquí. ¡Es vital haber realizado varios experimentos para sacar una buena nota! (2 puntos)\n",
    "6.\t**Conclusiones**: Discutir resultados, proponer trabajo futuro. (1 punto)"
   ]
  },
  {
   "cell_type": "markdown",
   "metadata": {
    "ExecuteTime": {
     "end_time": "2019-08-21T19:18:43.301002Z",
     "start_time": "2019-08-21T19:18:43.298037Z"
    },
    "colab_type": "text",
    "id": "UQ53VkYdvKcU"
   },
   "source": [
    "### Baseline\n",
    "\n",
    "Por último, el baseline contiene un código básico que:\n",
    "\n",
    "- Obtiene los dataset.\n",
    "- Divide los datasets en train (entrenamiento y prueba) y target set (el que clasificar para subir a la competencia).\n",
    "- Crea un Pipeline que: \n",
    "    - Crea features personalizadas.\n",
    "    - Transforma los dataset a bag of words (BoW).  \n",
    "    - Entrena un clasificador usando cada train set.\n",
    "- Clasifica y evalua el sistema creado usando el test set.\n",
    "- Clasifica el target set.\n",
    "- Genera una submission con el target en formato zip en el directorio en donde se está ejecutando el notebook. \n",
    "\n",
    "\n",
    "Algunas pistas sobre como mejorar el rendimiento de los sistemas que creen. (Esto tendrá mas sentido cuando vean el código)\n",
    "\n",
    "- **Vectorizador**: investigar los modulos de `nltk`, en particular, `TweetTokenizer`, `mark_negation` para reemplazar los tokenizadores. También, el parámetro `ngram_range` (Ojo que el clf naive bayes no debería usarse con n-gramas, ya que rompe el supuesto de independencia). Además, implementar los atributos que crean útiles desde el listado del el enunciado. Investigar también el vectorizador tf-idf.\n",
    "\n",
    "- **Clasificador**: investigar otros clasificadores mas efectivos que naive bayes. Estos deben poder retornar la probabilidad de pertenecia de las clases (ie: implementar la función `predict_proba`).\n",
    "\n",
    "- **Features**: Recuerden que pueden implementar todas las features que se les ocurra! Aquí les adjuntamos algunos ejemplos:\n",
    "    -\tWord n-grams.\n",
    "    -\tCharacter n-grams. \n",
    "    -\tPart-of-speech tags.\n",
    "    -\tSentiment Lexicons (Lexicon = A set of words with a label or associated value.).\n",
    "        - Count the number of positive and negative words within a sentence.\n",
    "        - If the lexicon has associated intensity of feeling (for example in a decimal), then take the average of the intensity of the sentence according to the feeling, the sum, etc.\n",
    "        -\tA good lexicon of sentiment: [Bing Liu](http://www.cs.uic.edu/~liub/FBS/opinion-lexicon-English.rar) \n",
    "        - A reference with a lot of [sentiment lexicons](https://medium.com/@datamonsters/sentiment-analysis-tools-overview-part-1-positive-and-negative-words-databases-ae35431a470c). \n",
    "    -\tThe number of elongated words (words with one character repeated more than two times).\n",
    "    -\tThe number of words with all characters in uppercase.\n",
    "    -\tThe presence and the number of positive or negative emoticons.\n",
    "    -\tThe number of individual negations.\n",
    "    -\tThe number of contiguous sequences of dots, question marks and exclamation marks.\n",
    "    -\tWord Embeddings: Here are some good ideas on how to use them.\n",
    "    https://stats.stackexchange.com/questions/221715/apply-word-embeddings-to-entire-document-to-get-a-feature-vector\n",
    "\n",
    "- **Reducción de dimensionalidad**: También puede serles de ayuda. Referencias [aquí](https://scikit-learn.org/stable/modules/unsupervised_reduction.html).\n",
    "\n",
    "- Por último, pueden encontrar mas referencias de cómo mejorar sus features, el vectorizador y el clasificador [aquí](https://affectivetweets.cms.waikato.ac.nz/benchmark/)."
   ]
  },
  {
   "cell_type": "markdown",
   "metadata": {
    "colab_type": "text",
    "id": "-GGbVakLvKcn"
   },
   "source": [
    "----------------------------------------"
   ]
  },
  {
   "cell_type": "markdown",
   "metadata": {
    "colab_type": "text",
    "id": "SIDyXa6f-HgY"
   },
   "source": [
    "# 0. TODO\n",
    "- MOAR Features\n",
    "\n",
    "- Experimentar."
   ]
  },
  {
   "cell_type": "markdown",
   "metadata": {
    "ExecuteTime": {
     "end_time": "2020-03-31T13:34:25.683540Z",
     "start_time": "2020-03-31T13:34:25.673430Z"
    },
    "colab_type": "text",
    "id": "TGUTH412vKct"
   },
   "source": [
    "## 1. Introducción"
   ]
  },
  {
   "cell_type": "markdown",
   "metadata": {
    "ExecuteTime": {
     "end_time": "2020-03-31T13:47:13.474238Z",
     "start_time": "2020-03-31T13:47:13.454068Z"
    },
    "colab_type": "text",
    "id": "BJobCgn5vKc1"
   },
   "source": [
    "## 2. Representaciones\n",
    "\n",
    "Para las representaciones se escogio..."
   ]
  },
  {
   "cell_type": "markdown",
   "metadata": {
    "colab_type": "text",
    "id": "9RDLeGcSvKc-"
   },
   "source": [
    "## 3. Algoritmos\n",
    "\n",
    "De los algoritmos de clasificación se decidió..."
   ]
  },
  {
   "cell_type": "markdown",
   "metadata": {
    "colab_type": "text",
    "id": "RQSGEDwqvKdM"
   },
   "source": [
    "## 4. Métricas de Evaluación\n",
    "\n",
    "- AUC: ...\n",
    "- Kappa: El coeficiente kappa de Cohen es una métrica que establece qué tan certero es el clasificador con los resultados esperados teniendo en cuenta la posibilidad de que las predicciones acertadas pudieron haber sido por mero azar.\n",
    "\n",
    "- Accuracy: El Accuracy mide la proporción de aciertos del clasificador de forma simple, contando la cantidad de clases bien predichas versus la cantidad de predicciones realizadas.\n"
   ]
  },
  {
   "cell_type": "markdown",
   "metadata": {
    "colab_type": "text",
    "id": "8x_qQLaHvKdQ"
   },
   "source": [
    "## 5. Experimentos"
   ]
  },
  {
   "cell_type": "markdown",
   "metadata": {
    "ExecuteTime": {
     "end_time": "2020-03-31T13:31:40.023344Z",
     "start_time": "2020-03-31T13:31:40.003541Z"
    },
    "colab_type": "text",
    "id": "_JSwCF_bvKdY"
   },
   "source": [
    "### Importar librerías y utiles"
   ]
  },
  {
   "cell_type": "code",
   "execution_count": 1,
   "metadata": {
    "colab": {
     "base_uri": "https://localhost:8080/",
     "height": 360
    },
    "colab_type": "code",
    "id": "EXzxb-SpATDg",
    "outputId": "a8feaa41-c47c-4901-ccd7-2ad724f02db5",
    "pycharm": {
     "name": "#%%\n"
    }
   },
   "outputs": [],
   "source": [
    "# Set-up\n",
    "try:\n",
    "    import emojis\n",
    "except:\n",
    "    !pip install emojis\n",
    "    import emojis\n",
    "\n",
    "try:\n",
    "    import gensim.downloader as api\n",
    "except:\n",
    "    !pip install gensim\n",
    "    import gensim.downloader as api\n",
    "\n",
    "try:\n",
    "    from better_profanity import profanity\n",
    "except:\n",
    "    !pip install better_profanity\n",
    "    from better_profanity import profanity\n",
    "\n",
    "try:\n",
    "    from senticnet.senticnet import SenticNet\n",
    "except:\n",
    "    !pip install senticnet\n",
    "    from senticnet.senticnet import SenticNet\n",
    "\n",
    "import nltk"
   ]
  },
  {
   "cell_type": "code",
   "execution_count": 5,
   "metadata": {
    "ExecuteTime": {
     "end_time": "2020-04-07T15:44:20.587160Z",
     "start_time": "2020-04-07T15:44:19.319386Z"
    },
    "colab": {
     "base_uri": "https://localhost:8080/",
     "height": 105
    },
    "colab_type": "code",
    "id": "2HRJf2t7vKdc",
    "outputId": "61233425-08c7-498c-b15e-13802fbbaaa9",
    "pycharm": {
     "name": "#%%\n"
    }
   },
   "outputs": [
    {
     "name": "stderr",
     "output_type": "stream",
     "text": [
      "[nltk_data] Downloading package opinion_lexicon to\n",
      "[nltk_data]     C:\\Users\\MagicalGirl\\AppData\\Roaming\\nltk_data...\n",
      "[nltk_data]   Package opinion_lexicon is already up-to-date!\n"
     ]
    }
   ],
   "source": [
    "import pandas as pd\n",
    "import os\n",
    "import numpy as np\n",
    "import shutil\n",
    "\n",
    "import emojis\n",
    "import gensim.downloader as api # https://github.com/RaRe-Technologies/gensim-data\n",
    "# get the model\n",
    "model = api.load(\"glove-twitter-50\")\n",
    "nltk.download('opinion_lexicon')\n",
    "\n",
    "from nltk.tokenize import TweetTokenizer\n",
    "from nltk.sentiment.util import mark_negation\n",
    "\n",
    "# sklearn.feature_extraction.text import CountVectorizer\n",
    "from sklearn.naive_bayes import MultinomialNB\n",
    "from sklearn.pipeline import Pipeline, FeatureUnion\n",
    "from sklearn.metrics import confusion_matrix, cohen_kappa_score, classification_report, accuracy_score, roc_auc_score\n",
    "from sklearn.model_selection import train_test_split\n",
    "from sklearn.base import BaseEstimator, TransformerMixin\n",
    "from sklearn.linear_model import LogisticRegression\n",
    "from sklearn.multiclass import OneVsRestClassifier\n",
    "\n",
    "from sklearn.feature_extraction.text import TfidfVectorizer\n",
    "from sklearn.feature_extraction.text import TfidfTransformer"
   ]
  },
  {
   "cell_type": "markdown",
   "metadata": {
    "colab_type": "text",
    "id": "KJiP8jlOvKd1"
   },
   "source": [
    "### Definir métodos de evaluación\n",
    "\n",
    "Estas funciones están a cargo de evaluar los resultados de la tarea. No deberían cambiarlas.\n"
   ]
  },
  {
   "cell_type": "code",
   "execution_count": 6,
   "metadata": {
    "ExecuteTime": {
     "end_time": "2020-04-07T15:44:20.604066Z",
     "start_time": "2020-04-07T15:44:20.589106Z"
    },
    "colab": {},
    "colab_type": "code",
    "id": "SMWRq5nPvKeA",
    "pycharm": {
     "name": "#%%\n"
    }
   },
   "outputs": [],
   "source": [
    "def auc_score(test_set, predicted_set):\n",
    "    high_predicted = np.array([prediction[2] for prediction in predicted_set])\n",
    "    medium_predicted = np.array(\n",
    "        [prediction[1] for prediction in predicted_set])\n",
    "    low_predicted = np.array([prediction[0] for prediction in predicted_set])\n",
    "    high_test = np.where(test_set == 'high', 1.0, 0.0)\n",
    "    medium_test = np.where(test_set == 'medium', 1.0, 0.0)\n",
    "    low_test = np.where(test_set == 'low', 1.0, 0.0)\n",
    "    auc_high = roc_auc_score(high_test, high_predicted)\n",
    "    auc_med = roc_auc_score(medium_test, medium_predicted)\n",
    "    auc_low = roc_auc_score(low_test, low_predicted)\n",
    "    auc_w = (low_test.sum() * auc_low + medium_test.sum() * auc_med +\n",
    "             high_test.sum() * auc_high) / (\n",
    "                 low_test.sum() + medium_test.sum() + high_test.sum())\n",
    "    return auc_w\n",
    "\n",
    "\n",
    "def evaulate(predicted_probabilities, y_test, labels, dataset_name):\n",
    "    # Importante: al transformar los arreglos de probabilidad a clases,\n",
    "    # entregar el arreglo de clases aprendido por el clasificador.\n",
    "    # (que comunmente, es distinto a ['low', 'medium', 'high'])\n",
    "    predicted_labels = [\n",
    "        labels[np.argmax(item)] for item in predicted_probabilities\n",
    "    ]\n",
    "    print('Confusion Matrix for {}:\\n'.format(dataset_name))\n",
    "    print(\n",
    "        confusion_matrix(y_test,\n",
    "                         predicted_labels,\n",
    "                         labels=['low', 'medium', 'high']))\n",
    "\n",
    "    print('\\nClassification Report:\\n')\n",
    "    print(\n",
    "        classification_report(y_test,\n",
    "                              predicted_labels,\n",
    "                              labels=['low', 'medium', 'high']))\n",
    "    # Reorder predicted probabilities array.\n",
    "    labels = labels.tolist()\n",
    "    predicted_probabilities = predicted_probabilities[:, [\n",
    "        labels.index('low'),\n",
    "        labels.index('medium'),\n",
    "        labels.index('high')\n",
    "    ]]\n",
    "    print(dataset_name, end='\\t')\n",
    "    auc = round(auc_score(y_test, predicted_probabilities), 3)\n",
    "    print(\"Scores:\\n\\nAUC: \", auc, end='\\t')\n",
    "    kappa = round(cohen_kappa_score(y_test, predicted_labels), 3)\n",
    "    print(\"Kappa:\", kappa, end='\\t')\n",
    "    accuracy = round(accuracy_score(y_test, predicted_labels), 3)\n",
    "    print(\"Accuracy:\", accuracy)\n",
    "    print('------------------------------------------------------\\n')\n",
    "    return np.array([auc, kappa, accuracy])"
   ]
  },
  {
   "cell_type": "markdown",
   "metadata": {
    "colab_type": "text",
    "id": "RK3Srgqu_yTI"
   },
   "source": [
    "### Datos ####"
   ]
  },
  {
   "cell_type": "code",
   "execution_count": 7,
   "metadata": {
    "colab": {},
    "colab_type": "code",
    "id": "FauIAEaMqBRS",
    "pycharm": {
     "name": "#%%\n"
    }
   },
   "outputs": [],
   "source": [
    "\n",
    "# Datasets de entrenamiento.\n",
    "train = {\n",
    "    'anger': pd.read_csv('https://raw.githubusercontent.com/dccuchile/CC6205/master/assignments/assignment_1/data/train/anger-train.txt', sep='\\t', names=['id', 'tweet', 'class', 'sentiment_intensity']),\n",
    "    'fear': pd.read_csv('https://raw.githubusercontent.com/dccuchile/CC6205/master/assignments/assignment_1/data/train/fear-train.txt', sep='\\t', names=['id', 'tweet', 'class', 'sentiment_intensity']),\n",
    "    'joy': pd.read_csv('https://raw.githubusercontent.com/dccuchile/CC6205/master/assignments/assignment_1/data/train/joy-train.txt', sep='\\t', names=['id', 'tweet', 'class', 'sentiment_intensity']),\n",
    "    'sadness': pd.read_csv('https://raw.githubusercontent.com/dccuchile/CC6205/master/assignments/assignment_1/data/train/sadness-train.txt', sep='\\t', names=['id', 'tweet', 'class', 'sentiment_intensity'])\n",
    "}\n",
    "# Datasets que deberán predecir para la competencia.\n",
    "target = {\n",
    "    'anger': pd.read_csv('https://raw.githubusercontent.com/dccuchile/CC6205/master/assignments/assignment_1/data/target/anger-target.txt', sep='\\t', names=['id', 'tweet', 'class', 'sentiment_intensity'], na_values=['NONE']),\n",
    "    'fear': pd.read_csv('https://raw.githubusercontent.com/dccuchile/CC6205/master/assignments/assignment_1/data/target/fear-target.txt', sep='\\t', names=['id', 'tweet', 'class', 'sentiment_intensity'], na_values=['NONE']),\n",
    "    'joy': pd.read_csv('https://raw.githubusercontent.com/dccuchile/CC6205/master/assignments/assignment_1/data/target/joy-target.txt', sep='\\t', names=['id', 'tweet', 'class', 'sentiment_intensity'], na_values=['NONE']),\n",
    "    'sadness': pd.read_csv('https://raw.githubusercontent.com/dccuchile/CC6205/master/assignments/assignment_1/data/target/sadness-target.txt', sep='\\t', names=['id', 'tweet', 'class', 'sentiment_intensity'], na_values=['NONE'])\n",
    "}"
   ]
  },
  {
   "cell_type": "markdown",
   "metadata": {
    "colab_type": "text",
    "id": "9DoBu0XyvKfG"
   },
   "source": [
    "### Analizar los datos \n",
    "\n",
    "Imprimir la cantidad de tweets de cada dataset, según su intensidad de sentimiento. Noten que las clases están desbalanceadas. "
   ]
  },
  {
   "cell_type": "code",
   "execution_count": 8,
   "metadata": {
    "ExecuteTime": {
     "end_time": "2020-04-07T15:44:21.117633Z",
     "start_time": "2020-04-07T15:44:21.090703Z"
    },
    "colab": {
     "base_uri": "https://localhost:8080/",
     "height": 561
    },
    "colab_type": "code",
    "id": "iLit4HlFvKfK",
    "outputId": "0519c971-2ec0-400e-ba61-aaaaa65be9de"
   },
   "outputs": [
    {
     "name": "stdout",
     "output_type": "stream",
     "text": [
      "anger \n",
      "                       id  tweet  class\n",
      "sentiment_intensity                   \n",
      "high                 163    163    163\n",
      "low                  161    161    161\n",
      "medium               617    617    617 \n",
      "---------------------------------------\n",
      "\n",
      "fear \n",
      "                       id  tweet  class\n",
      "sentiment_intensity                   \n",
      "high                 270    270    270\n",
      "low                  288    288    288\n",
      "medium               699    699    699 \n",
      "---------------------------------------\n",
      "\n",
      "joy \n",
      "                       id  tweet  class\n",
      "sentiment_intensity                   \n",
      "high                 195    195    195\n",
      "low                  219    219    219\n",
      "medium               488    488    488 \n",
      "---------------------------------------\n",
      "\n",
      "sadness \n",
      "                       id  tweet  class\n",
      "sentiment_intensity                   \n",
      "high                 197    197    197\n",
      "low                  210    210    210\n",
      "medium               453    453    453 \n",
      "---------------------------------------\n",
      "\n"
     ]
    }
   ],
   "source": [
    "def get_group_dist(group_name, train):\n",
    "    print(group_name, \"\\n\",\n",
    "          train[group_name].groupby('sentiment_intensity').count(),\n",
    "          '\\n---------------------------------------\\n')\n",
    "for dataset_name in train:\n",
    "    get_group_dist(dataset_name, train)"
   ]
  },
  {
   "cell_type": "markdown",
   "metadata": {
    "colab_type": "text",
    "id": "nyqmE30oCAxc"
   },
   "source": [
    "### Balance de Clases"
   ]
  },
  {
   "cell_type": "code",
   "execution_count": 9,
   "metadata": {
    "colab": {},
    "colab_type": "code",
    "id": "q0aQopQlMCI9"
   },
   "outputs": [],
   "source": [
    "from sklearn.utils import resample"
   ]
  },
  {
   "cell_type": "markdown",
   "metadata": {
    "colab_type": "text",
    "id": "LVE8N1M-LxNa"
   },
   "source": [
    "#### Balanceo de Clases ####"
   ]
  },
  {
   "cell_type": "code",
   "execution_count": 10,
   "metadata": {
    "colab": {
     "base_uri": "https://localhost:8080/",
     "height": 85
    },
    "colab_type": "code",
    "id": "V5W2njtMLuXf",
    "outputId": "c2892f50-7d6c-4e7e-84e9-c37445b1e800",
    "pycharm": {
     "name": "#%%\n"
    }
   },
   "outputs": [
    {
     "data": {
      "text/plain": [
       "low       210\n",
       "medium    200\n",
       "high      197\n",
       "Name: sentiment_intensity, dtype: int64"
      ]
     },
     "execution_count": 10,
     "metadata": {},
     "output_type": "execute_result"
    }
   ],
   "source": [
    "enojo=train.get('anger')\n",
    "df_enojo_high=enojo['sentiment_intensity']=='high'\n",
    "df_enojo_high=enojo[df_enojo_high]\n",
    "df_enojo_medium=enojo['sentiment_intensity']=='medium'\n",
    "df_enojo_medium=enojo[df_enojo_medium]\n",
    "df_enojo_low=enojo['sentiment_intensity']=='low'\n",
    "df_enojo_low=enojo[df_enojo_low]\n",
    "\n",
    "df_majority_downsampled = resample(df_enojo_medium, \n",
    "                                 replace=False,    # sample without replacement\n",
    "                                 n_samples=163,     # to match minority class\n",
    "                                 random_state=123) # reproducible results\n",
    " \n",
    "# Se combinan las clases minoritarias con la mayoritaria\n",
    "df_downsampled_enojo = pd.concat([df_majority_downsampled, df_enojo_low,df_enojo_high])\n",
    " \n",
    "# Display new class counts\n",
    "df_downsampled_enojo.sentiment_intensity.value_counts()\n",
    "\n",
    "miedo=train.get('fear')\n",
    "df_miedo_high=miedo['sentiment_intensity']=='high'\n",
    "df_miedo_high=miedo[df_miedo_high]\n",
    "df_miedo_medium=miedo['sentiment_intensity']=='medium'\n",
    "df_miedo_medium=miedo[df_miedo_medium]\n",
    "df_miedo_low=miedo['sentiment_intensity']=='low'\n",
    "df_miedo_low=miedo[df_miedo_low]\n",
    "\n",
    "\n",
    "# Downsample de medium\n",
    "df_majority_downsampled = resample(df_miedo_medium, \n",
    "                                 replace=False,    # sample without replacement\n",
    "                                 n_samples=270,     # to match minority class\n",
    "                                 random_state=123) # reproducible results\n",
    " \n",
    "# Se combinan las clases minoritarias con la mayoritaria\n",
    "df_downsampled_miedo = pd.concat([df_majority_downsampled, df_miedo_low,df_miedo_high])\n",
    " \n",
    "# Display new class counts\n",
    "df_downsampled_miedo.sentiment_intensity.value_counts()\n",
    "\n",
    "\n",
    "\n",
    "alegria=train.get('joy')\n",
    "df_alegria_high=alegria['sentiment_intensity']=='high'\n",
    "df_alegria_high=alegria[df_alegria_high]\n",
    "df_alegria_medium=alegria['sentiment_intensity']=='medium'\n",
    "df_alegria_medium=alegria[df_alegria_medium]\n",
    "df_alegria_low=alegria['sentiment_intensity']=='low'\n",
    "df_alegria_low=alegria[df_alegria_low]\n",
    "\n",
    "\n",
    "\n",
    "# Downsample de medium\n",
    "df_majority_downsampled = resample(df_alegria_medium, \n",
    "                                 replace=False,    # sample without replacement\n",
    "                                 n_samples=200,     # to match minority class\n",
    "                                 random_state=123) # reproducible results\n",
    " \n",
    "# Se combinan las clases minoritarias con la mayoritaria\n",
    "df_downsampled_alegria = pd.concat([df_majority_downsampled, df_alegria_low,df_alegria_high])\n",
    " \n",
    "# Display new class counts\n",
    "df_downsampled_alegria.sentiment_intensity.value_counts()\n",
    "\n",
    "\n",
    "\n",
    "tristeza=train.get('sadness')\n",
    "df_tristeza_high=tristeza['sentiment_intensity']=='high'\n",
    "df_tristeza_high=tristeza[df_tristeza_high]\n",
    "df_tristeza_medium=tristeza['sentiment_intensity']=='medium'\n",
    "df_tristeza_medium=tristeza[df_tristeza_medium]\n",
    "df_tristeza_low=tristeza['sentiment_intensity']=='low'\n",
    "df_tristeza_low=tristeza[df_tristeza_low]\n",
    "\n",
    "# Downsample de medium\n",
    "df_majority_downsampled = resample(df_tristeza_medium, \n",
    "                                 replace=False,    # sample without replacement\n",
    "                                 n_samples=200,     # to match minority class\n",
    "                                 random_state=123) # reproducible results\n",
    " \n",
    "# Se combinan las clases minoritarias con la mayoritaria\n",
    "df_downsampled_tristeza = pd.concat([df_majority_downsampled, df_tristeza_low,df_tristeza_high])\n",
    " \n",
    "# Display new class counts\n",
    "df_downsampled_tristeza.sentiment_intensity.value_counts()"
   ]
  },
  {
   "cell_type": "markdown",
   "metadata": {
    "colab_type": "text",
    "id": "EPIcYA2IM8jt"
   },
   "source": [
    "#### Features y Estimadores"
   ]
  },
  {
   "cell_type": "code",
   "execution_count": 18,
   "metadata": {
    "colab": {},
    "colab_type": "code",
    "id": "sRrZ8fCFCQk9"
   },
   "outputs": [],
   "source": [
    "from nltk.corpus import opinion_lexicon\n",
    "from better_profanity import profanity\n",
    "from sklearn.feature_extraction.text import CountVectorizer\n",
    "\n",
    "import re"
   ]
  },
  {
   "cell_type": "code",
   "execution_count": 19,
   "metadata": {
    "ExecuteTime": {
     "end_time": "2020-04-07T15:44:21.128600Z",
     "start_time": "2020-04-07T15:44:21.119624Z"
    },
    "colab": {},
    "colab_type": "code",
    "id": "LsOWDM_8vKft",
    "pycharm": {
     "name": "#%%\n"
    }
   },
   "outputs": [],
   "source": [
    "# Feature de ejemplo\n",
    "# https://scikit-learn.org/stable/data_transforms.html\n",
    "\n",
    "\n",
    "class CountLenght(BaseEstimator, TransformerMixin):\n",
    "    def get_relevant_chars(self, tweet):\n",
    "        num_chars = len(tweet)\n",
    "        return [num_chars]\n",
    "\n",
    "    def transform(self, X, y=None):\n",
    "        chars = []\n",
    "        for tweet in X:\n",
    "            chars.append(self.get_relevant_chars(tweet))\n",
    "        return np.array(chars)\n",
    "\n",
    "    def fit(self, X, y=None):\n",
    "        return self\n",
    "\n",
    "\n",
    "class CharsCountTransformer(BaseEstimator, TransformerMixin):\n",
    "    def get_relevant_chars(self, tweet):\n",
    "        num_hashtags = tweet.count('#')       #\n",
    "        num_exclamations = tweet.count('!')   #\n",
    "        num_interrogations = tweet.count('?') #\n",
    "        num_dots = tweet.count('.')           #\n",
    "        num_emojis = emojis.count(tweet)      #\n",
    "        return [num_hashtags, \n",
    "                num_exclamations, \n",
    "                num_interrogations, \n",
    "                num_emojis, \n",
    "                num_dots]\n",
    "\n",
    "    def transform(self, X, y=None):\n",
    "        chars = []\n",
    "        for tweet in X:\n",
    "            chars.append(self.get_relevant_chars(tweet))\n",
    "\n",
    "        return np.array(chars)\n",
    "\n",
    "    def fit(self, X, y=None):\n",
    "        return self\n",
    "\n",
    "class SentimentScore(BaseEstimator, TransformerMixin):\n",
    "    def negate(self, number, boolean):\n",
    "        if boolean:\n",
    "            return -number\n",
    "        else:\n",
    "            return  number\n",
    "\n",
    "    def transform(self, X, y=None):\n",
    "        sentiment_array=[]\n",
    "        sentiment_pos = 0\n",
    "        sn = SenticNet()\n",
    "        for tweet in X:\n",
    "            moods = {\n",
    "                 '#sadness':0,\n",
    "                 '#disgust':0,\n",
    "                 '#joy':0,\n",
    "                 '#interest':0,\n",
    "                 '#admiration':0,\n",
    "                 '#anger':0,\n",
    "                 '#surprise':0,\n",
    "                 '#fear':0\n",
    "            }\n",
    "            mood_array = np.zeros(8)\n",
    "            tokenizer = TweetTokenizer()\n",
    "            tokens = tokenizer.tokenize(tweet)\n",
    "            tokens_neg = mark_negation(tokens)\n",
    "            for token in tokens_neg:\n",
    "                negated = False\n",
    "                if token[-4:] == \"_NEG\":\n",
    "                    negated = True\n",
    "                    token = token[:-4]\n",
    "                if token[:1] == \"#\":\n",
    "                    token = token[1:]\n",
    "                if token in sn.data:\n",
    "                    if sn.polarity_value(token) == 'positive':\n",
    "                        score = 1\n",
    "                    else:\n",
    "                        score = -1\n",
    "                    for tag in sn.moodtags(token):\n",
    "                        moods[tag] += self.negate(score, negated)\n",
    "\n",
    "            for idx, key in enumerate(moods):\n",
    "                mood_array[idx] = moods[key]\n",
    "\n",
    "\n",
    "            sentiment_array.append(mood_array)\n",
    "\n",
    "        return np.array(sentiment_array)\n",
    "\n",
    "    def fit(self, X, y=None):\n",
    "        return self\n",
    "\n",
    "\n",
    "\n",
    "\n",
    "class WordEmbeddingsTransformer(BaseEstimator, TransformerMixin):\n",
    "    # Usa el diccionario y encuentra su origen\n",
    "    def __init__(self, model):\n",
    "          self.model = model\n",
    "\n",
    "    def transform(self, X, y=None):\n",
    "        aggregation = np.mean\n",
    "        tokenizer = TweetTokenizer()\n",
    "        doc_embeddings = []\n",
    "        for tweet in X:\n",
    "            tokens = tokenizer.tokenize(tweet)\n",
    "            selected_words = []\n",
    "            for token in tokens:\n",
    "                if token in self.model.vocab:\n",
    "                    selected_words.append(self.model[token])\n",
    "            \n",
    "            if len(selected_words) > 0:\n",
    "                doc_emb = aggregation(np.array(selected_words), axis = 0)\n",
    "                doc_embeddings.append(doc_emb)\n",
    "            else:\n",
    "                doc_embeddings.append(np.zeros(self.model.vector_size))\n",
    "\n",
    "        return np.array(doc_embeddings)\n",
    "\n",
    "    def fit(self, X, y=None):\n",
    "        return self\n",
    "\n",
    "# Template para una feature\n",
    "class SentimentLexicon(BaseEstimator, TransformerMixin):\n",
    "    def fun(self, tweet):\n",
    "        tokenizer = TweetTokenizer()\n",
    "        tweet=tweet.replace(\"#\",'')\n",
    "        t=tokenizer.tokenize(tweet)\n",
    "        pos_list=set(opinion_lexicon.positive())\n",
    "        neg_list=set(opinion_lexicon.negative())\n",
    "        pos_words=0\n",
    "        neg_words=0\n",
    "        for i in t:\n",
    "            if i in pos_list:\n",
    "                pos_words=pos_words+1\n",
    "            elif i in neg_list:\n",
    "                neg_words=neg_words+1\n",
    "        return [pos_words,neg_words]\n",
    "    \n",
    "    def transform(self, X, y=None):\n",
    "        a_list = []\n",
    "        for tweet in X:\n",
    "            a_list.append(self.fun(tweet))\n",
    "        return a_list\n",
    "\n",
    "    def fit(self, X, y=None):\n",
    "        return self\n",
    "      \n",
    "class UpperLetters(BaseEstimator, TransformerMixin):\n",
    "    def fun(self, tweet):\n",
    "        tokenizer=TweetTokenizer()\n",
    "        t=tokenizer.tokenize(tweet)\n",
    "        largo=len(t)\n",
    "        num_Upper=0\n",
    "        for i in t:\n",
    "            if i.isupper() and len(i)>1:\n",
    "                num_Upper=num_Upper+1\n",
    "        return [num_Upper/largo]\n",
    "    \n",
    "    def transform(self, X, y=None):\n",
    "        a_list = []\n",
    "        for tweet in X:\n",
    "            a_list.append(self.fun(tweet))\n",
    "        return a_list\n",
    "\n",
    "    def fit(self, X, y=None):\n",
    "        return self\n",
    "    \n",
    "class tweetCount(BaseEstimator, TransformerMixin):\n",
    "    def fun(self, tweet):\n",
    "        a=tweet.replace(\"!\",'')\n",
    "        a=re.findall(r'#+\\S+', a)\n",
    "        pos_list=set(opinion_lexicon.positive())\n",
    "        neg_list=set(opinion_lexicon.negative())\n",
    "        pos=0\n",
    "        neg=0\n",
    "        if len(a)==0:\n",
    "            total=1\n",
    "        else:\n",
    "            total=len(a)\n",
    "        for i in a:\n",
    "            i=i[1:]\n",
    "            if i in pos_list:\n",
    "                pos=pos+1\n",
    "            elif i in neg_list:\n",
    "                neg=neg+1\n",
    "        return [pos/total*1000,neg/total*1000]\n",
    "    \n",
    "    def transform(self, X, y=None):\n",
    "        a_list = []\n",
    "        for tweet in X:\n",
    "            a_list.append(self.fun(tweet))\n",
    "        return a_list\n",
    "\n",
    "    def fit(self, X, y=None):\n",
    "        return self\n",
    "\n",
    "class CurseWords(BaseEstimator, TransformerMixin):\n",
    "    def countCurseWords(self, tweet):\n",
    "        t=TweetTokenizer().tokenize(tweet)\n",
    "        x=0\n",
    "        for i in t:\n",
    "            if(profanity.contains_profanity(i)):\n",
    "                x=x+1        \n",
    "        return [x*1000]\n",
    "        \n",
    "    def transform(self, X, y=None):\n",
    "        a_list = []\n",
    "        for tweet in X:\n",
    "            a_list.append(self.countCurseWords(tweet))\n",
    "        return a_list\n",
    "\n",
    "    def fit(self, X, y=None):\n",
    "        return self\n",
    "\n",
    "class Emoticons(BaseEstimator, TransformerMixin):\n",
    "    def fun(self, tweet):\n",
    "        happy_faces=tweet.count(':)')\n",
    "        happy_faces=tweet.count(':D')+happy_faces\n",
    "        sad_faces=tweet.count(':(')\n",
    "        return [happy_faces,sad_faces]\n",
    "        \n",
    "    def transform(self, X, y=None):\n",
    "        a_list = []\n",
    "        for tweet in X:\n",
    "            a_list.append(self.fun(tweet))\n",
    "        return a_list\n",
    "\n",
    "    def fit(self, X, y=None):\n",
    "        return self\n",
    "  \n",
    "\n",
    "class Emojis(BaseEstimator, TransformerMixin):\n",
    "    def fun(self,tweet):\n",
    "        msg=emojis.decode(tweet)\n",
    "        enojo=msg.count(':anger:')\n",
    "        enojo=msg.count(':rage:')+enojo\n",
    "        alegria=msg.count(':joy:')\n",
    "        alegria=msg.count(':laughing:')+alegria\n",
    "        alegria=msg.count(':blush:')+alegria\n",
    "        alegria=msg.count(':smile:')+alegria\n",
    "        alegria=msg.count(':heart_eyes:')+alegria\n",
    "        alegria=msg.count(':heart:')+alegria\n",
    "        tristeza=msg.count(':sob:')\n",
    "        miedo=msg.count(':fearful:')\n",
    "        #print(enojo)\n",
    "        return [enojo,alegria,tristeza,miedo]\n",
    "    \n",
    "    def transform(self,X,y=None):\n",
    "        enojo=0\n",
    "        a_list=[]\n",
    "        for i in X:\n",
    "            enojo=self.fun(i)\n",
    "            a_list.append(enojo)\n",
    "        return a_list\n",
    "    \n",
    "    def fit(self,X,y=None):\n",
    "        return self\n",
    "    "
   ]
  },
  {
   "cell_type": "code",
   "execution_count": 16,
   "metadata": {
    "colab": {},
    "colab_type": "code",
    "id": "qTMLlbK76DAL",
    "pycharm": {
     "name": "#%%\n"
    }
   },
   "outputs": [],
   "source": [
    "# Estimator\n",
    "#estimator = LogisticRegression(max_iter=1000000, multi_class=\"ovr\")\n",
    "# estimator2 = LogisticRegression(max_iter=1000000)\n",
    "from sklearn.neural_network import MLPClassifier\n",
    "estimator =MLPClassifier(random_state=1, max_iter=100000)\n",
    "t_tokenizer = TweetTokenizer()\n",
    "\n",
    "from sklearn.model_selection import StratifiedKFold"
   ]
  },
  {
   "cell_type": "markdown",
   "metadata": {
    "colab_type": "text",
    "id": "vnuia6l26DAP"
   },
   "source": [
    "#### Pipeline ####"
   ]
  },
  {
   "cell_type": "code",
   "execution_count": 12,
   "metadata": {
    "colab": {},
    "colab_type": "code",
    "id": "XpDytuKx6DAP",
    "pycharm": {
     "name": "#%%\n"
    }
   },
   "outputs": [],
   "source": [
    "def sad_pipeline():\n",
    "    return Pipeline([('features',\n",
    "                      FeatureUnion([('tweetCount',tweetCount()),\n",
    "                                    ('emojis', Emojis()),\n",
    "                                    ('chars_count', CharsCountTransformer()),\n",
    "                                    ('upperletters', UpperLetters()),\n",
    "                                    ('sentiment',SentimentLexicon()),\n",
    "                                    ('cursewords',CurseWords()),\n",
    "                                    ('word_embeddings', WordEmbeddingsTransformer(model)),\n",
    "                                    ('emoticons',Emoticons()),\n",
    "                                    ('sentiment_score',  SentimentScore())\n",
    "                                    ])), ('clf', estimator)])\n",
    "\n",
    "def angry_pipeline():\n",
    "    return Pipeline([('features',\n",
    "                      FeatureUnion([ ('tweetCount',tweetCount()),\n",
    "                                    ('emojis', Emojis()),\n",
    "                                    ('chars_count', CharsCountTransformer()),\n",
    "                                    ('upperletters', UpperLetters()),\n",
    "                                    ('sentiment',SentimentLexicon()),\n",
    "                                    ('cursewords',CurseWords()),\n",
    "                                    ('word_embeddings', WordEmbeddingsTransformer(model)),\n",
    "                                    ('emoticons',Emoticons()),\n",
    "                                    ('sentiment_score', SentimentScore())\n",
    "                                    ])), ('clf', estimator)])\n",
    "    \n",
    "def fear_pipeline():\n",
    "    return Pipeline([('features',\n",
    "                      FeatureUnion([('tweetCount',tweetCount()),\n",
    "                                    ('emojis', Emojis()),\n",
    "                                    ('chars_count', CharsCountTransformer()),\n",
    "                                    ('upperletters', UpperLetters()),\n",
    "                                    ('sentiment',SentimentLexicon()),\n",
    "                                    ('cursewords',CurseWords()),\n",
    "                                    ('word_embeddings', WordEmbeddingsTransformer(model)),\n",
    "                                    ('emoticons',Emoticons()),\n",
    "                                    ('sentiment_score',  SentimentScore())\n",
    "                                    ])), ('clf', estimator)])\n",
    "\n",
    "def joy_pipeline():\n",
    "    return Pipeline([('features',\n",
    "                      FeatureUnion([('tweetCount',tweetCount()),\n",
    "                                    ('emojis', Emojis()),\n",
    "                                    ('chars_count', CharsCountTransformer()),\n",
    "                                    ('upperletters', UpperLetters()),\n",
    "                                    ('sentiment',SentimentLexicon()),\n",
    "                                    ('cursewords',CurseWords()),\n",
    "                                    ('word_embeddings', WordEmbeddingsTransformer(model)),\n",
    "                                    ('emoticons',Emoticons()),\n",
    "                                    ('sentiment_score', SentimentScore())\n",
    "                                    ])), ('clf', estimator)])\n",
    "def general_pipeline():\n",
    "    return Pipeline([('features',\n",
    "                      FeatureUnion([ \n",
    "                                    #('length_count', CountLenght()), # discarded\n",
    "                                    ('chars_count', CharsCountTransformer()),\n",
    "                                    ('upperletters', UpperLetters()), # discarded\n",
    "                                    ('sentiment',SentimentLexicon()),\n",
    "                                    ('cursewords',CurseWords()),\n",
    "                                    # ('word_embeddings', WordEmbeddingsTransformer(model)),\n",
    "                                    ('sentiment_score', SentimentScore()), # discarted\n",
    "                                    ('emoticons', Emoticons()),\n",
    "                                    ])), ('clf', estimator)])"
   ]
  },
  {
   "cell_type": "code",
   "execution_count": 13,
   "metadata": {
    "colab": {},
    "colab_type": "code",
    "id": "OybMyiAF6DAV",
    "pycharm": {
     "name": "#%%\n"
    }
   },
   "outputs": [],
   "source": [
    "# Ejecutar el pipeline para algun data-set\n",
    "def run(dataset, dataset_name, pipeline):\n",
    "    \"\"\"Creamos el pipeline y luego lo ejecutamos el pipeline sobre un dataset. \n",
    "    Retorna el modelo ya entrenado mas sus labels asociadas y los scores obtenidos al evaluarlo.\"\"\"\n",
    "\n",
    "    # Dividimos el dataset en train y test.\n",
    "    X_train, X_test, y_train, y_test = train_test_split(\n",
    "        dataset.tweet,\n",
    "        dataset.sentiment_intensity,\n",
    "        shuffle=True,\n",
    "        test_size=0.33\n",
    "        #random_state=123\n",
    "    )\n",
    "\n",
    "    # Entrenamos el clasificador (Ejecuta el entrenamiento sobre todo el pipeline)\n",
    "    pipeline.fit(X_train, y_train)\n",
    "\n",
    "    # Predecimos las probabilidades de intensidad de cada elemento del set de prueba.\n",
    "    predicted_probabilities = pipeline.predict_proba(X_test)\n",
    "\n",
    "    # Obtenemos el orden de las clases aprendidas.\n",
    "    learned_labels = pipeline.classes_\n",
    "\n",
    "    # Evaluamos:\n",
    "    scores = evaulate(predicted_probabilities, y_test, learned_labels, dataset_name)\n",
    "    return pipeline, learned_labels, scores\n",
    "    "
   ]
  },
  {
   "cell_type": "markdown",
   "metadata": {
    "colab_type": "text",
    "id": "pTe6kzfU6DAZ",
    "pycharm": {
     "name": "#%% md\n"
    }
   },
   "source": [
    "# Experiments\n"
   ]
  },
  {
   "cell_type": "code",
   "execution_count": 20,
   "metadata": {
    "colab": {
     "base_uri": "https://localhost:8080/",
     "height": 1000
    },
    "colab_type": "code",
    "id": "qtGMBZ6w6DAc",
    "outputId": "250bb92c-97e9-4153-8e41-ead17a1f712d",
    "pycharm": {
     "name": "#%%\n"
    }
   },
   "outputs": [
    {
     "name": "stdout",
     "output_type": "stream",
     "text": [
      "Confusion Matrix for anger:\n",
      "\n",
      "[[28 18 10]\n",
      " [15 19 19]\n",
      " [ 4 14 34]]\n",
      "\n",
      "Classification Report:\n",
      "\n",
      "              precision    recall  f1-score   support\n",
      "\n",
      "         low       0.60      0.50      0.54        56\n",
      "      medium       0.37      0.36      0.37        53\n",
      "        high       0.54      0.65      0.59        52\n",
      "\n",
      "    accuracy                           0.50       161\n",
      "   macro avg       0.50      0.50      0.50       161\n",
      "weighted avg       0.50      0.50      0.50       161\n",
      "\n",
      "anger\tScores:\n",
      "\n",
      "AUC:  0.687\tKappa: 0.256\tAccuracy: 0.503\n",
      "------------------------------------------------------\n",
      "\n",
      "Confusion Matrix for fear:\n",
      "\n",
      "[[51 26 17]\n",
      " [26 35 28]\n",
      " [12 29 50]]\n",
      "\n",
      "Classification Report:\n",
      "\n",
      "              precision    recall  f1-score   support\n",
      "\n",
      "         low       0.57      0.54      0.56        94\n",
      "      medium       0.39      0.39      0.39        89\n",
      "        high       0.53      0.55      0.54        91\n",
      "\n",
      "    accuracy                           0.50       274\n",
      "   macro avg       0.50      0.50      0.50       274\n",
      "weighted avg       0.50      0.50      0.50       274\n",
      "\n",
      "fear\tScores:\n",
      "\n",
      "AUC:  0.671\tKappa: 0.245\tAccuracy: 0.496\n",
      "------------------------------------------------------\n",
      "\n",
      "Confusion Matrix for joy:\n",
      "\n",
      "[[46 13 13]\n",
      " [18 20 30]\n",
      " [17  3 43]]\n",
      "\n",
      "Classification Report:\n",
      "\n",
      "              precision    recall  f1-score   support\n",
      "\n",
      "         low       0.57      0.64      0.60        72\n",
      "      medium       0.56      0.29      0.38        68\n",
      "        high       0.50      0.68      0.58        63\n",
      "\n",
      "    accuracy                           0.54       203\n",
      "   macro avg       0.54      0.54      0.52       203\n",
      "weighted avg       0.54      0.54      0.52       203\n",
      "\n",
      "joy\tScores:\n",
      "\n",
      "AUC:  0.669\tKappa: 0.306\tAccuracy: 0.537\n",
      "------------------------------------------------------\n",
      "\n",
      "Confusion Matrix for sadness:\n",
      "\n",
      "[[49 16  1]\n",
      " [27 32  2]\n",
      " [38 24 12]]\n",
      "\n",
      "Classification Report:\n",
      "\n",
      "              precision    recall  f1-score   support\n",
      "\n",
      "         low       0.43      0.74      0.54        66\n",
      "      medium       0.44      0.52      0.48        61\n",
      "        high       0.80      0.16      0.27        74\n",
      "\n",
      "    accuracy                           0.46       201\n",
      "   macro avg       0.56      0.48      0.43       201\n",
      "weighted avg       0.57      0.46      0.42       201\n",
      "\n",
      "sadness\tScores:\n",
      "\n",
      "AUC:  0.605\tKappa: 0.207\tAccuracy: 0.463\n",
      "------------------------------------------------------\n",
      "\n",
      "Average scores:\n",
      "\n",
      " Average AUC: 0.658\t Average Kappa: 0.254\t Average Accuracy: 0.5\n"
     ]
    }
   ],
   "source": [
    "pipelines = {'anger':angry_pipeline(), 'fear':fear_pipeline(), 'joy':joy_pipeline(), 'sadness':sad_pipeline() }\n",
    "datasets = {'anger':df_downsampled_enojo, 'fear':df_downsampled_miedo, 'joy':df_downsampled_alegria, 'sadness':df_downsampled_tristeza}\n",
    "\n",
    "# Get clasif/labels/scores\n",
    "classifiers = []\n",
    "learned_labels_array = []\n",
    "scores_array = []\n",
    "\n",
    "\n",
    "for dataset_name, dataset in train.items():\n",
    "\n",
    "    # creamos el pipeline\n",
    "    pipeline = pipelines.get(dataset_name)\n",
    "\n",
    "    # ejecutamos el pipeline sobre el dataset\n",
    "    classifier, learned_labels, scores = run(datasets.get(dataset_name), dataset_name, pipeline)\n",
    "\n",
    "    # guardamos el clasificador entrenado (en realidad es el pipeline ya entrenado...)\n",
    "    classifiers.append(classifier)\n",
    "\n",
    "    # guardamos las labels aprendidas por el clasificador\n",
    "    learned_labels_array.append(learned_labels)\n",
    "\n",
    "    # guardamos los scores obtenidos\n",
    "    scores_array.append(scores)\n",
    "\n",
    "\n",
    "# print avg scores\n",
    "print(\n",
    "    \"Average scores:\\n\\n\",\n",
    "    \"Average AUC: {0:.3g}\\t Average Kappa: {1:.3g}\\t Average Accuracy: {2:.3g}\"\n",
    "    .format(*np.array(scores_array).mean(axis=0)))\n"
   ]
  },
  {
   "cell_type": "markdown",
   "metadata": {
    "ExecuteTime": {
     "end_time": "2019-08-21T19:37:43.169737Z",
     "start_time": "2019-08-21T19:37:43.166744Z"
    },
    "colab_type": "text",
    "id": "9kKHJB1hvKgc"
   },
   "source": [
    "### Predecir los target set y crear la submission\n",
    "\n",
    "Aquí predecimos los target set usando los clasificadores creados y creamos los archivos de las submissions."
   ]
  },
  {
   "cell_type": "code",
   "execution_count": 22,
   "metadata": {
    "ExecuteTime": {
     "end_time": "2020-04-07T15:44:21.392097Z",
     "start_time": "2020-04-07T15:44:21.386114Z"
    },
    "colab": {},
    "colab_type": "code",
    "id": "J2n-WL2VvKgd"
   },
   "outputs": [],
   "source": [
    "def predict_target(dataset, classifier, labels):\n",
    "    # Predecir las probabilidades de intensidad de cada elemento del target set.\n",
    "    predicted = pd.DataFrame(classifier.predict_proba(dataset.tweet), columns=labels)\n",
    "    # Agregar ids\n",
    "    predicted['id'] = dataset.id.values\n",
    "    # Reordenar las columnas\n",
    "    predicted = predicted[['id', 'low', 'medium', 'high']]\n",
    "    return predicted"
   ]
  },
  {
   "cell_type": "code",
   "execution_count": 48,
   "metadata": {
    "ExecuteTime": {
     "end_time": "2020-04-07T15:44:21.588573Z",
     "start_time": "2020-04-07T15:44:21.394094Z"
    },
    "colab": {
     "base_uri": "https://localhost:8080/",
     "height": 374
    },
    "colab_type": "code",
    "id": "67FPoKJUvKgk",
    "outputId": "a1fa4654-7d4e-4ce4-fa35-938b4b9353f9",
    "scrolled": true
   },
   "outputs": [
    {
     "name": "stdout",
     "output_type": "stream",
     "text": [
      "{'anger':         id       low    medium      high\n",
      "0    10941  0.535561  0.334314  0.130125\n",
      "1    10942  0.262239  0.311123  0.426638\n",
      "2    10943  0.110878  0.309314  0.579808\n",
      "3    10944  0.545227  0.223577  0.231195\n",
      "4    10945  0.498819  0.147937  0.353244\n",
      "..     ...       ...       ...       ...\n",
      "755  11696  0.232630  0.565507  0.201863\n",
      "756  11697  0.635483  0.349076  0.015441\n",
      "757  11698  0.371880  0.535649  0.092471\n",
      "758  11699  0.252467  0.526938  0.220595\n",
      "759  11700  0.180014  0.258519  0.561467\n",
      "\n",
      "[760 rows x 4 columns], 'fear':         id       low    medium      high\n",
      "0    21257  0.566661  0.343313  0.090026\n",
      "1    21258  0.068388  0.417274  0.514338\n",
      "2    21259  0.636915  0.063941  0.299144\n",
      "3    21260  0.354497  0.435038  0.210465\n",
      "4    21261  0.590678  0.310173  0.099150\n",
      "..     ...       ...       ...       ...\n",
      "990  22247  0.218365  0.495240  0.286394\n",
      "991  22248  0.281289  0.184314  0.534396\n",
      "992  22249  0.669793  0.147064  0.183143\n",
      "993  22250  0.688249  0.276473  0.035278\n",
      "994  22251  0.287006  0.543496  0.169498\n",
      "\n",
      "[995 rows x 4 columns], 'joy':         id       low    medium      high\n",
      "0    30902  0.853041  0.115476  0.031483\n",
      "1    30903  0.694906  0.151883  0.153210\n",
      "2    30904  0.300611  0.304059  0.395329\n",
      "3    30905  0.734812  0.168352  0.096836\n",
      "4    30906  0.008944  0.397912  0.593144\n",
      "..     ...       ...       ...       ...\n",
      "709  31611  0.577456  0.033310  0.389234\n",
      "710  31612  0.779592  0.142519  0.077889\n",
      "711  31613  0.015296  0.464547  0.520157\n",
      "712  31614  0.769696  0.158583  0.071721\n",
      "713  31615  0.529464  0.032320  0.438216\n",
      "\n",
      "[714 rows x 4 columns], 'sadness':         id       low    medium      high\n",
      "0    40860  0.408111  0.067032  0.524856\n",
      "1    40861  0.714130  0.079361  0.206509\n",
      "2    40862  0.242403  0.605324  0.152272\n",
      "3    40863  0.192431  0.335857  0.471712\n",
      "4    40864  0.596912  0.053882  0.349205\n",
      "..     ...       ...       ...       ...\n",
      "668  41528  0.447707  0.331477  0.220815\n",
      "669  41529  0.271591  0.228555  0.499854\n",
      "670  41530  0.350850  0.444313  0.204836\n",
      "671  41531  0.151011  0.708984  0.140005\n",
      "672  41532  0.224265  0.668252  0.107483\n",
      "\n",
      "[673 rows x 4 columns]}\n"
     ]
    }
   ],
   "source": [
    "predicted_target = {}\n",
    "\n",
    "# Crear carpeta ./predictions\n",
    "if (not os.path.exists('./predictions')):\n",
    "    os.mkdir('./predictions')\n",
    "\n",
    "else:\n",
    "    # Eliminar predicciones anteriores:\n",
    "    shutil.rmtree('./predictions')\n",
    "    os.mkdir('./predictions')\n",
    "\n",
    "# por cada target set:\n",
    "for idx, key in enumerate(target):\n",
    "    # Predecirlo\n",
    "    predicted_target[key] = predict_target(target[key], classifiers[idx],\n",
    "                                           learned_labels_array[idx])\n",
    "    # Guardar predicciones en archivos separados. \n",
    "    predicted_target[key].to_csv('./predictions/{}-pred.txt'.format(key),\n",
    "                                 sep='\\t',\n",
    "                                 header=False,\n",
    "                                 index=False)\n",
    "\n",
    "# Crear archivo zip\n",
    "a = shutil.make_archive('predictions', 'zip', './predictions')\n",
    "\n",
    "print(predicted_target)"
   ]
  },
  {
   "cell_type": "markdown",
   "metadata": {
    "colab_type": "text",
    "id": "XG1HKffVvKgq"
   },
   "source": [
    "## 6. Conclusiones"
   ]
  },
  {
   "cell_type": "markdown",
   "metadata": {
    "colab_type": "text",
    "id": "GTJLC8nNvKgr"
   },
   "source": [
    "..."
   ]
  }
 ],
 "metadata": {
  "colab": {
   "collapsed_sections": [],
   "name": "t1.ipynb",
   "provenance": []
  },
  "kernelspec": {
   "display_name": "Python 3",
   "language": "python",
   "name": "python3"
  },
  "language_info": {
   "codemirror_mode": {
    "name": "ipython",
    "version": 3
   },
   "file_extension": ".py",
   "mimetype": "text/x-python",
   "name": "python",
   "nbconvert_exporter": "python",
   "pygments_lexer": "ipython3",
   "version": "3.7.1"
  },
  "toc": {
   "base_numbering": 1,
   "nav_menu": {},
   "number_sections": true,
   "sideBar": true,
   "skip_h1_title": true,
   "title_cell": "Table of Contents",
   "title_sidebar": "Contents",
   "toc_cell": true,
   "toc_position": {},
   "toc_section_display": true,
   "toc_window_display": false
  },
  "varInspector": {
   "cols": {
    "lenName": 16,
    "lenType": 16,
    "lenVar": 40
   },
   "kernels_config": {
    "python": {
     "delete_cmd_postfix": "",
     "delete_cmd_prefix": "del ",
     "library": "var_list.py",
     "varRefreshCmd": "print(var_dic_list())"
    },
    "r": {
     "delete_cmd_postfix": ") ",
     "delete_cmd_prefix": "rm(",
     "library": "var_list.r",
     "varRefreshCmd": "cat(var_dic_list()) "
    }
   },
   "types_to_exclude": [
    "module",
    "function",
    "builtin_function_or_method",
    "instance",
    "_Feature"
   ],
   "window_display": false
  }
 },
 "nbformat": 4,
 "nbformat_minor": 1
}
